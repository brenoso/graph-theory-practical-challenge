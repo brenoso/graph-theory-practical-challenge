{
 "cells": [
  {
   "cell_type": "markdown",
   "metadata": {},
   "source": [
    "# Gerador de Instâncias\n",
    "\n",
    "* **Conjuntos elementares**\n",
    "    * $N$: número de clientes a serem atendidos no dia;\n",
    "    * $R$: número de sub-regiões;\n",
    "    * $K$: quantidade de tipos diferentes de veículos disponíveis;\n",
    "    * $H$: número de horas da jornada diária."
   ]
  },
  {
   "cell_type": "code",
   "execution_count": 16,
   "metadata": {},
   "outputs": [],
   "source": [
    "N = 100\n",
    "R = 5\n",
    "K = 5\n",
    "H = 7"
   ]
  },
  {
   "cell_type": "markdown",
   "metadata": {},
   "source": [
    "* **Dados a respeito de um cliente $i \\in N$**\n",
    "    * $v_i$: volume (em $m^3$) do pedido a ser entregue;\n",
    "    * $p_i$: valor (em reais) do pedido a ser entregue;\n",
    "    * $n_i$: quantidade de pacotes que compõem o pedido;\n",
    "    * $x$: coordenada $x$ do cliente;\n",
    "    * $y$: coordenada $y$ do cliente;"
   ]
  },
  {
   "cell_type": "code",
   "execution_count": 17,
   "metadata": {},
   "outputs": [],
   "source": [
    "import random\n",
    "\n",
    "class Vertices:\n",
    "    def __init__(self, v, p, n):\n",
    "        self.v = v\n",
    "        self.p = p\n",
    "        self.n = n\n",
    "        self.x = random.uniform(0,100)\n",
    "        self.y = random.uniform(0,100)\n",
    "\n",
    "    def __str__(self):\n",
    "        return str(self.v) + \" \" + str(self.p) + \" \" + str(self.n) + \"\\n\"\n",
    "\n",
    "# Lista de clientes\n",
    "vertices = [Vertices(random.uniform(0.001, 0.01), \n",
    "  random.randint(10,1001), random.randint(1,11)) \n",
    "  for i in range(0,N)]\n",
    "  \n",
    "# Os 5 primeiros clientes são centros de distribuição\n",
    "for i in range(5):\n",
    "    vertices[i].v = vertices[i].p = vertices[i].n = 0"
   ]
  },
  {
   "cell_type": "markdown",
   "metadata": {},
   "source": [
    "* **Dados a respeito do veículo do tipo $k \\in K$**\n",
    "    * $V_k$: volume máximo (em $m^3$) que o veículo pode transportar;\n",
    "    * $P_k$: valor máximo (em reais) que o veículo pode transportar;\n",
    "    * $N_k$: quantidade de veículos disponíveis;\n",
    "    * ${(v_f)}_k$: velocidade a qual o veículo se move entre o centro de distribuição e a primeira entrega, assim como entre a última entrega e o centro de distribuição;\n",
    "    * ${(v_d)}_k$: velocidade com a qual o veículo se move entre duas entregas;\n",
    "    * ${(t_c)}_k$: tempo médio para se carregar um pacote no veículo;\n",
    "    * ${(t_d)}_k$: tempo médio necessário para descarregar um pacote do veículo e entregá-lo ao cliente;\n",
    "    * ${(p_h)}_k$: custo médio por hora do veículo;\n",
    "    * ${(p_{km})}_k$: custo médio por quilômetro percorrido pelo veículo;\n",
    "    * ${(p_f)}_k$: custo fixo diário do veículo;\n"
   ]
  },
  {
   "cell_type": "code",
   "execution_count": 18,
   "metadata": {},
   "outputs": [],
   "source": [
    "class Veiculo:\n",
    "    def __init__(self, V, P, Nv, vf, vd, tc, td, ph, pkm, pf):\n",
    "        self.V = V\n",
    "        self.P = P\n",
    "        self.Nv = Nv\n",
    "        self.vf = random.randint(vf - 5, vf + 5)\n",
    "        self.vd = random.randint(vd - 5, vd + 5)\n",
    "        self.tc = random.uniform(tc, 3*tc)\n",
    "        self.td = td\n",
    "        self.ph = ph\n",
    "        self.pkm = pkm\n",
    "        self.pf = pf\n",
    "\n",
    "# Lista de informações sobre os veículos\n",
    "veiculos = [Veiculo(0, 0, 0, 25, 30, 0.01, 0, 0, 0, 0) for i in range(5)]\n",
    "\n",
    "# Tipo 0: Van\n",
    "veiculos[0].V = random.randint(8,16)\n",
    "veiculos[0].P = random.randint(70000,75000)\n",
    "veiculos[0].Nv = random.randint(10,20)\n",
    "veiculos[0].td = random.uniform(0.04, 0.08)\n",
    "veiculos[0].ph = random.randint(30,60)\n",
    "veiculos[0].pkm = random.randint(2,4)\n",
    "veiculos[0].pf = random.randint(100,200)  \n",
    "\n",
    "\n",
    "# Tipo 1: Mini-Van\n",
    "veiculos[1].V = random.randint(2,4)\n",
    "veiculos[1].P = random.randint(70000,75000)\n",
    "veiculos[1].Nv = random.randint(10,20)\n",
    "veiculos[1].td = random.uniform(0.02, 0.04)\n",
    "veiculos[1].ph = random.randint(30,60)\n",
    "veiculos[1].pkm = random.randint(2,4)\n",
    "veiculos[1].pf = random.randint(90,180)  \n",
    "\n",
    "\n",
    "# Tipo 2: Comum\n",
    "veiculos[2].V = random.uniform(0.7,1.4)\n",
    "veiculos[2].P = random.randint(30000,35000)\n",
    "veiculos[2].Nv = random.randint(20,30)\n",
    "veiculos[2].td = random.uniform(0.02, 0.04)\n",
    "veiculos[2].ph = random.randint(30,60)\n",
    "veiculos[2].pkm = random.randint(1,2)\n",
    "veiculos[2].pf = random.randint(60,120)  \n",
    "\n",
    "\n",
    "# Tipo 3: Motocicleta\n",
    "veiculos[3].V = random.uniform(0.02,0.04)\n",
    "veiculos[3].P = random.randint(1000,5000)\n",
    "veiculos[3].Nv = random.randint(20,30)\n",
    "veiculos[3].td = random.uniform(0.02, 0.04)\n",
    "veiculos[3].ph = random.randint(30,60)\n",
    "veiculos[3].pkm = random.randint(1,2)\n",
    "veiculos[3].pf = random.randint(40,80)  \n",
    "\n",
    "\n",
    "# Tipo 4: Van terceirizada\n",
    "veiculos[4].V = random.uniform(0.08,0.16)\n",
    "veiculos[4].P = random.randint(75000,80000)\n",
    "veiculos[4].Nv = N\n",
    "veiculos[4].td = random.uniform(0.04, 0.08)\n",
    "veiculos[4].ph = 0\n",
    "veiculos[4].pkm = random.randint(2,4)\n",
    "veiculos[4].pf = 0"
   ]
  },
  {
   "cell_type": "markdown",
   "metadata": {},
   "source": [
    "* **Representação dos clientes**\n",
    "    * $0$: cada centro de distribuição dentro de uma região;\n",
    "    * $i,j \\in \\{0,...,N\\}$: centro de distribuição e clientes;\n",
    "    * $d_{ij}$: distância entre os pontos $i,j \\in \\{0,...,N\\}$."
   ]
  },
  {
   "cell_type": "markdown",
   "metadata": {},
   "source": [
    "* Geração do arquivo"
   ]
  },
  {
   "cell_type": "code",
   "execution_count": 19,
   "metadata": {},
   "outputs": [],
   "source": [
    "file = open(\"InstanciaTeste.txt\", \"w\") # Abrindo o arquivo\n",
    "\n",
    "file.write(str(N) + \"\\n\") # Número de clientes\n",
    "file.write(str(R) + \"\\n\") # Número de sub-regiões\n",
    "file.write(str(K) + \"\\n\") # Tipos de veículos\n",
    "file.write(str(H) + \"\\n\") # Carga horária diária\n",
    "\n",
    "# Informações sobre os vértices\n",
    "for v in vertices:\n",
    "    file.write(str(v.x) + \" \" + str(v.y) + \" \" + str(v.v) + \n",
    "               \" \" + str(v.p) + \" \" + str(v.n) + \"\\n\")\n",
    "\n",
    "# Informações sobre os veículos\n",
    "for u in veiculos:\n",
    "    file.write(str(u.V) + \" \" + str(u.P) + \" \" + str(u.Nv) + \n",
    "               \" \" + str(u.vf) + \" \" + str(u.vd) + \" \" +\n",
    "              str(u.tc) + \" \" + str(u.td) + \" \" +\n",
    "              str(u.td) + \" \" + str(u.ph) + \" \" +\n",
    "              str(u.pkm) + \" \" + str(u.pf) + \"\\n\")\n",
    "\n",
    "file.close()"
   ]
  },
  {
   "cell_type": "code",
   "execution_count": null,
   "metadata": {},
   "outputs": [],
   "source": []
  }
 ],
 "metadata": {
  "kernelspec": {
   "display_name": "Python 3",
   "language": "python",
   "name": "python3"
  },
  "language_info": {
   "codemirror_mode": {
    "name": "ipython",
    "version": 3
   },
   "file_extension": ".py",
   "mimetype": "text/x-python",
   "name": "python",
   "nbconvert_exporter": "python",
   "pygments_lexer": "ipython3",
   "version": "3.6.5"
  }
 },
 "nbformat": 4,
 "nbformat_minor": 2
}
